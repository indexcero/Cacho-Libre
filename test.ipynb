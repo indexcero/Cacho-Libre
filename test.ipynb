{
 "cells": [
  {
   "cell_type": "code",
   "execution_count": 4,
   "metadata": {},
   "outputs": [
    {
     "data": {
      "text/plain": [
       "True"
      ]
     },
     "execution_count": 4,
     "metadata": {},
     "output_type": "execute_result"
    }
   ],
   "source": [
    "import pycacho\n",
    "\n",
    "print(pycacho.Lanzada().lanzar())\n",
    "pycacho.Lanzada().ver_dormida()\n"
   ]
  },
  {
   "cell_type": "code",
   "execution_count": 7,
   "metadata": {},
   "outputs": [
    {
     "name": "stdout",
     "output_type": "stream",
     "text": [
      "El jugador es: Adrian\n"
     ]
    }
   ],
   "source": [
    "# Un diccionario de objetos\n",
    "# Tratar de que el método de retornar valor retorne si el turno ha terminado\n",
    "\n",
    "\n",
    "class juego:\n",
    "    def __init__(self, nombre):\n",
    "        self.nombre = nombre\n",
    "    def imprimir_nombre(self):\n",
    "        print(f'El jugador es: {self.nombre}')\n",
    "    \n",
    "\n",
    "jugadores = {\"Adrian\":juego(\"Adrian\"), \"Walle\":juego(\"Adrian\"), \"Abigo\":juego(\"Adrian\")}\n",
    "\n",
    "jugadores[\"Adrian\"].imprimir_nombre()\n",
    "\n",
    "\n"
   ]
  },
  {
   "cell_type": "code",
   "execution_count": 14,
   "metadata": {},
   "outputs": [
    {
     "name": "stdout",
     "output_type": "stream",
     "text": [
      "{'Adrian': False, 'Walle': False, 'Fabio': False, 'Abigo': False}\n",
      "PASTAAAA PARAA Walle\n",
      "PASTAAAA PARAA Abigo\n"
     ]
    }
   ],
   "source": [
    "#Sistema de turnos.\n",
    "Jugadores = ['Adrian','Walle', \"Fabio\", \"Abigo\"]\n",
    "\n",
    "Jugadores_dict = dict.fromkeys(Jugadores, False)\n",
    "\n",
    "class jugador:\n",
    "    def __init__(self,name):\n",
    "        self.name = name\n",
    "    def jugar(self):\n",
    "        pasta = input('Pasta? (Y or N)')\n",
    "        if pasta == 'Y':\n",
    "            print(f'PASTAAAA PARAA {self.name}')\n",
    "        else:\n",
    "            pasta = input('Pasta? (Y or N)')\n",
    "\n",
    "\n",
    "print(Jugadores_dict)\n",
    "for key in Jugadores_dict:\n",
    "    key = jugador(key)\n",
    "    key.jugar()"
   ]
  },
  {
   "cell_type": "code",
   "execution_count": 18,
   "metadata": {},
   "outputs": [
    {
     "name": "stdout",
     "output_type": "stream",
     "text": [
      "Abigo Holi Holiwis paquito\n"
     ]
    }
   ],
   "source": [
    "a = \"Abigo Holi Holiwis paquito\"\n",
    "b = a.strip(' ')\n",
    "print(b)"
   ]
  },
  {
   "cell_type": "code",
   "execution_count": null,
   "metadata": {},
   "outputs": [],
   "source": []
  },
  {
   "cell_type": "code",
   "execution_count": null,
   "metadata": {},
   "outputs": [],
   "source": []
  },
  {
   "cell_type": "code",
   "execution_count": null,
   "metadata": {},
   "outputs": [],
   "source": []
  },
  {
   "cell_type": "code",
   "execution_count": null,
   "metadata": {},
   "outputs": [],
   "source": []
  },
  {
   "cell_type": "code",
   "execution_count": null,
   "metadata": {},
   "outputs": [],
   "source": []
  },
  {
   "cell_type": "code",
   "execution_count": null,
   "metadata": {},
   "outputs": [],
   "source": []
  },
  {
   "cell_type": "code",
   "execution_count": null,
   "metadata": {},
   "outputs": [],
   "source": []
  },
  {
   "cell_type": "code",
   "execution_count": null,
   "metadata": {},
   "outputs": [],
   "source": []
  },
  {
   "cell_type": "code",
   "execution_count": null,
   "metadata": {},
   "outputs": [],
   "source": []
  },
  {
   "cell_type": "code",
   "execution_count": null,
   "metadata": {},
   "outputs": [],
   "source": []
  },
  {
   "cell_type": "code",
   "execution_count": null,
   "metadata": {},
   "outputs": [],
   "source": []
  },
  {
   "cell_type": "code",
   "execution_count": null,
   "metadata": {},
   "outputs": [],
   "source": []
  },
  {
   "cell_type": "code",
   "execution_count": null,
   "metadata": {},
   "outputs": [],
   "source": []
  }
 ],
 "metadata": {
  "interpreter": {
   "hash": "e7370f93d1d0cde622a1f8e1c04877d8463912d04d973331ad4851f04de6915a"
  },
  "kernelspec": {
   "display_name": "Python 3.9.9 64-bit",
   "language": "python",
   "name": "python3"
  },
  "language_info": {
   "codemirror_mode": {
    "name": "ipython",
    "version": 3
   },
   "file_extension": ".py",
   "mimetype": "text/x-python",
   "name": "python",
   "nbconvert_exporter": "python",
   "pygments_lexer": "ipython3",
   "version": "3.9.9"
  },
  "orig_nbformat": 4
 },
 "nbformat": 4,
 "nbformat_minor": 2
}
